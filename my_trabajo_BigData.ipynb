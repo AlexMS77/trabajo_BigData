{
  "cells": [
    {
      "cell_type": "raw",
      "metadata": {},
      "source": [
        "---\n",
        "title: \"La mejor serie: The Walking Dead\"\n",
        "description: |\n",
        "author: Alex Monzó (amonsan7@uv.es)  #--\n",
        "date: 2022-11-01                  #--\n",
        "categories: [trabajo BigData, serie]   #--\n",
        "image: \"./imagenes/imagen_01.png\"\n",
        "title-block-banner: true #- {true, false, \"green\",\"#AA0000\"}\n",
        "title-block-banner-color: \"white\"    #-\"#FFFFFF\" \n",
        "toc: true\n",
        "toc-location: left\n",
        "toc-depth: 3\n",
        "smooth-scroll: true\n",
        "format: \n",
        "  html:\n",
        "    #backgroundcolor: \"#F1F3F4\"\n",
        "    #standalone: true  \n",
        "    link-external-newwindow: true\n",
        "    #css: ./assets/my_css_file.css   #- CUIDADO!!!!\n",
        "code-tools: true\n",
        "code-link: true\n",
        "---"
      ],
      "id": "42f01d21"
    },
    {
      "cell_type": "markdown",
      "metadata": {},
      "source": [
        "```{css, echo=FALSE} \n",
        "\n",
        "h1,h2,h3,h4,h5,h6,p, table {\n",
        "  font-family: \"Times New Roman\", Times, serif;\n",
        "  color: white\n",
        "}\n",
        "```\n",
        "\n",
        "\n",
        "# Introducción\n",
        "\n",
        "The Walking Dead es una serie de televisión americana de horror, drama y thriller basada en los comics de Robert Kirkman, el autor de la novela gráfica, aunque la serie no sigue del todo el guion del comic.\n",
        "\n",
        "La serie se estreno en los estados unidos a través de la cadena AMC el 31 de octubre de 2010, el día de Halloween y ha seguido emitiéndose de forma continua hasta el 20 de noviembre de 2022, que es cuando la historia principal finaliza en la onceava temporada con un total de 177 episodios.\n",
        "No obstante, el universo de The Walking Dead no se ha acabado ni mucho menos y es que su legado sigue con otras tres series mas que van a estrenarse próximamente y Fear The Walking Dead, serie que se emitió por primera vez en 2015.\n",
        "\n",
        "La trama se centra en un mundo distópico en el cual hubo un brote de un virus repentino y de propagación extremadamente rápida que convertía a los humanos en zombies después de la muerte. Estos seres son los que ponen en peligro a los protagonistas, aunque no son los únicos enemigos, pues las personas también son igual o más peligrosas. \n",
        "\n",
        "La serie está centrada en los Estados Unidos, país que ha sido devastado por la catástrofe, aunque también ha devastado el resto del mundo. "
      ],
      "id": "0d40dfde"
    },
    {
      "cell_type": "raw",
      "metadata": {},
      "source": [
        "---\n",
        "\n",
        "# Motivaciones\n",
        "\n",
        "He decidido hacer el trabajo sobre The Walking Dead porque ha sido una de mis series favoritas y la llevo viendo continuamente desde el 2013, además me gusta mucho la temática zombie y la trama que se narra en la serie, aunque es verdad que hay temporadas que no he visto cuando salieron porque me desenganché, aunque al final si que la he podido terminar este año.\n",
        "\n",
        "Por otro lado, me parecía curioso hacer un trabajo sobre esta serie ya que no había muchos datos disponibles y me ha supuesto un reto poder hacer este trabajo, aunque me ha gustado bastante el hacerlo y cómo ha quedado.\t\n",
        "\n",
        "---"
      ],
      "id": "26def176"
    },
    {
      "cell_type": "markdown",
      "metadata": {},
      "source": [
        "# Datos utilizados\n",
        "\n",
        "Como he dicho antes, los datos me han costado un poco encontrarlos, incluso ha habido algunos que he tenido que crear yo fijándome en la Wikipedia de la serie.\n",
        "\n",
        "Eso sí, los datos de las estadísticas de los episodios, los he obtenido de Kaggle, gracias a la aportación de un usuario que es el único que encontré.\n",
        "\n",
        "Para sacar otros datos he tenido que usar incluso Python, aunque como no sabía ese lenguaje, no me funciono del todo y lo tuve que dejar (de ahí que algunos datos que no sean los más nuevos y actualizados).\n",
        "\n",
        "Así que principalmente he usado la Wikipedia de la serie, la Wikipedia normal y Kaggle para sacar los datos."
      ],
      "id": "6d36a585"
    },
    {
      "cell_type": "markdown",
      "metadata": {},
      "source": [
        "---"
      ],
      "id": "e675e109"
    }
  ],
  "metadata": {
    "kernelspec": {
      "display_name": "Python 3",
      "language": "python",
      "name": "python3"
    }
  },
  "nbformat": 4,
  "nbformat_minor": 5
}